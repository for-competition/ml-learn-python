{
 "cells": [
  {
   "cell_type": "code",
   "execution_count": 8,
   "metadata": {},
   "outputs": [],
   "source": [
    "#插入排序\n",
    "def insert_sort(li):\n",
    "    a = 0\n",
    "    for i in range(1,len(li)):\n",
    "        for j in range(i,0,-1):\n",
    "            a += 1\n",
    "            print j-1\n",
    "            if li[j] < li[j-1]:\n",
    "                temp = li[j-1]\n",
    "                li[j-1] = li[j]\n",
    "                li[j] = temp\n",
    "        print li\n",
    "    print a"
   ]
  },
  {
   "cell_type": "code",
   "execution_count": 9,
   "metadata": {},
   "outputs": [
    {
     "name": "stdout",
     "output_type": "stream",
     "text": [
      "0\n",
      "[3, 5, 6, 2, 3, 7, 0]\n",
      "1\n",
      "0\n",
      "[3, 5, 6, 2, 3, 7, 0]\n",
      "2\n",
      "1\n",
      "0\n",
      "[2, 3, 5, 6, 3, 7, 0]\n",
      "3\n",
      "2\n",
      "1\n",
      "0\n",
      "[2, 3, 3, 5, 6, 7, 0]\n",
      "4\n",
      "3\n",
      "2\n",
      "1\n",
      "0\n",
      "[2, 3, 3, 5, 6, 7, 0]\n",
      "5\n",
      "4\n",
      "3\n",
      "2\n",
      "1\n",
      "0\n",
      "[0, 2, 3, 3, 5, 6, 7]\n",
      "21\n"
     ]
    }
   ],
   "source": [
    "L = [5,3,6,2,3,7,0]\n",
    "insert_sort(L)"
   ]
  },
  {
   "cell_type": "code",
   "execution_count": 73,
   "metadata": {},
   "outputs": [],
   "source": [
    "def insert_sort1(li):\n",
    "    a = 0\n",
    "    for i in range(1,len(li)):\n",
    "        for j in range(i,0,-1):\n",
    "            a += 1\n",
    "            if li[j] < li[j-1]:\n",
    "                temp = li[j-1]\n",
    "                li[j-1] = li[j]\n",
    "                li[j] = temp\n",
    "            else:\n",
    "                break\n",
    "        print li\n",
    "    print a"
   ]
  },
  {
   "cell_type": "code",
   "execution_count": 74,
   "metadata": {},
   "outputs": [
    {
     "name": "stdout",
     "output_type": "stream",
     "text": [
      "[3, 5, 6, 2, 3, 7, 0]\n",
      "[3, 5, 6, 2, 3, 7, 0]\n",
      "[2, 3, 5, 6, 3, 7, 0]\n",
      "[2, 3, 3, 5, 6, 7, 0]\n",
      "[2, 3, 3, 5, 6, 7, 0]\n",
      "[0, 2, 3, 3, 5, 6, 7]\n",
      "15\n"
     ]
    }
   ],
   "source": [
    "L = [5,3,6,2,3,7,0]\n",
    "insert_sort1(L)"
   ]
  },
  {
   "cell_type": "code",
   "execution_count": 16,
   "metadata": {},
   "outputs": [],
   "source": [
    "def shell_sort(li):\n",
    "    a = 0\n",
    "    gap = int(len(li)/2)\n",
    "    while(gap) >= 1:\n",
    "        print \"gap\",gap\n",
    "        for i in range(gap,len(li)):\n",
    "            for j in range(i,0,-gap):\n",
    "                a += 1\n",
    "                print j,j-gap\n",
    "                if li[j] < li[j-gap] and j-gap >=0:\n",
    "                    temp = li[j-gap]\n",
    "                    li[j-gap]=li[j]\n",
    "                    li[j] = temp\n",
    "                else:\n",
    "                    break\n",
    "            print li\n",
    "        gap = int(gap/2)\n",
    "    print a"
   ]
  },
  {
   "cell_type": "code",
   "execution_count": 17,
   "metadata": {},
   "outputs": [
    {
     "name": "stdout",
     "output_type": "stream",
     "text": [
      "gap 3\n",
      "3 0\n",
      "[2, 3, 6, 5, 3, 7, 0]\n",
      "4 1\n",
      "[2, 3, 6, 5, 3, 7, 0]\n",
      "5 2\n",
      "[2, 3, 6, 5, 3, 7, 0]\n",
      "6 3\n",
      "3 0\n",
      "[0, 3, 6, 2, 3, 7, 5]\n",
      "gap 1\n",
      "1 0\n",
      "[0, 3, 6, 2, 3, 7, 5]\n",
      "2 1\n",
      "[0, 3, 6, 2, 3, 7, 5]\n",
      "3 2\n",
      "2 1\n",
      "1 0\n",
      "[0, 2, 3, 6, 3, 7, 5]\n",
      "4 3\n",
      "3 2\n",
      "[0, 2, 3, 3, 6, 7, 5]\n",
      "5 4\n",
      "[0, 2, 3, 3, 6, 7, 5]\n",
      "6 5\n",
      "5 4\n",
      "4 3\n",
      "[0, 2, 3, 3, 5, 6, 7]\n",
      "16\n"
     ]
    }
   ],
   "source": [
    "L = [5,3,6,2,3,7,0]\n",
    "shell_sort(L)"
   ]
  },
  {
   "cell_type": "code",
   "execution_count": 19,
   "metadata": {},
   "outputs": [],
   "source": [
    "def select_sort(li):\n",
    "    a = 0\n",
    "    for i in range(0,len(li)):\n",
    "        for j in range(i+1,len(li)):\n",
    "            a += 1\n",
    "            if li[j] < li[i]:\n",
    "                temp = li[i]\n",
    "                li[i] = li[j]\n",
    "                li[j] = temp\n",
    "        print li\n",
    "    print a"
   ]
  },
  {
   "cell_type": "code",
   "execution_count": 20,
   "metadata": {},
   "outputs": [
    {
     "name": "stdout",
     "output_type": "stream",
     "text": [
      "[0, 5, 6, 3, 3, 7, 2]\n",
      "[0, 2, 6, 5, 3, 7, 3]\n",
      "[0, 2, 3, 6, 5, 7, 3]\n",
      "[0, 2, 3, 3, 6, 7, 5]\n",
      "[0, 2, 3, 3, 5, 7, 6]\n",
      "[0, 2, 3, 3, 5, 6, 7]\n",
      "[0, 2, 3, 3, 5, 6, 7]\n",
      "21\n"
     ]
    }
   ],
   "source": [
    "L = [5,3,6,2,3,7,0]\n",
    "select_sort(L)"
   ]
  },
  {
   "cell_type": "code",
   "execution_count": 23,
   "metadata": {},
   "outputs": [],
   "source": [
    "def bubble_sort(li):\n",
    "    a = 0\n",
    "    for i in range(1,len(li)):\n",
    "        for j in range(0,len(li)-i):\n",
    "            a += 1\n",
    "            if li[j] > li[j+1]:\n",
    "                temp = li[j+1]\n",
    "                li[j+1] = li[j]\n",
    "                li[j] = temp\n",
    "        print li\n",
    "    print a"
   ]
  },
  {
   "cell_type": "code",
   "execution_count": 24,
   "metadata": {},
   "outputs": [
    {
     "name": "stdout",
     "output_type": "stream",
     "text": [
      "[3, 5, 2, 3, 6, 0, 7]\n",
      "[3, 2, 3, 5, 0, 6, 7]\n",
      "[2, 3, 3, 0, 5, 6, 7]\n",
      "[2, 3, 0, 3, 5, 6, 7]\n",
      "[2, 0, 3, 3, 5, 6, 7]\n",
      "[0, 2, 3, 3, 5, 6, 7]\n",
      "21\n"
     ]
    }
   ],
   "source": [
    "L = [5,3,6,2,3,7,0]\n",
    "bubble_sort(L)"
   ]
  },
  {
   "cell_type": "code",
   "execution_count": 7,
   "metadata": {},
   "outputs": [],
   "source": [
    "def quick_bubble(li,low,high):\n",
    "    privot = li[low]\n",
    "    while(low < high):\n",
    "        while(low < high and li[high] >= privot):\n",
    "            high -= 1\n",
    "        li[low] = li[high]\n",
    "        while(low < high and li[low] <= privot):\n",
    "            low += 1\n",
    "        li[high] = li[low]\n",
    "        print li\n",
    "    li[low] = privot\n",
    "    return low\n",
    "\n",
    "def quick_sort(li,low,high):\n",
    "    if(low<high):\n",
    "        part = quick_bubble(li,low,high)\n",
    "        print '---',part\n",
    "        print 'low'\n",
    "        quick_sort(li,low,part-1)\n",
    "        print 'high'\n",
    "        quick_sort(li,part+1,high)"
   ]
  },
  {
   "cell_type": "code",
   "execution_count": 9,
   "metadata": {},
   "outputs": [
    {
     "name": "stdout",
     "output_type": "stream",
     "text": [
      "[0, 3, 6, 2, 3, 7, 6]\n",
      "[0, 3, 3, 2, 3, 7, 6]\n",
      "--- 4\n",
      "low\n",
      "[0, 3, 3, 2, 5, 7, 6]\n",
      "--- 0\n",
      "low\n",
      "high\n",
      "[0, 2, 3, 2, 5, 7, 6]\n",
      "--- 3\n",
      "low\n",
      "[0, 2, 3, 3, 5, 7, 6]\n",
      "--- 1\n",
      "low\n",
      "high\n",
      "high\n",
      "high\n",
      "[0, 2, 3, 3, 5, 6, 6]\n",
      "--- 6\n",
      "low\n",
      "high\n"
     ]
    },
    {
     "data": {
      "text/plain": [
       "[0, 2, 3, 3, 5, 6, 7]"
      ]
     },
     "execution_count": 9,
     "metadata": {},
     "output_type": "execute_result"
    }
   ],
   "source": [
    "L = [5,3,6,2,3,7,0]\n",
    "quick_sort(L,0,6)\n",
    "L"
   ]
  },
  {
   "cell_type": "code",
   "execution_count": 15,
   "metadata": {},
   "outputs": [],
   "source": [
    "def merging(li,first,mid,last,temp):\n",
    "    i,j,k = first,mid+1,0\n",
    "    while(i<=mid) and (j<=last):\n",
    "        if li[i] <= li[j]:\n",
    "            temp[k] = li[i]\n",
    "            i += 1\n",
    "            k += 1\n",
    "        else:\n",
    "            temp[k] = li[j]\n",
    "            j += 1\n",
    "            k += 1\n",
    "        \n",
    "    while(i<=mid):\n",
    "        temp[k] = li[i]\n",
    "        i += 1\n",
    "        k += 1\n",
    "    while(j<=last):\n",
    "        temp[k] = li[j]\n",
    "        j += 1\n",
    "        k += 1\n",
    "        \n",
    "    for i in range(0,k):\n",
    "        li[first+i] = temp[i]\n",
    "        \n",
    "def merge_sort(li,first,last,temp):\n",
    "    if first < last:\n",
    "        mid = int((first+last)/2)\n",
    "        merge_sort(li,first,mid,temp)\n",
    "        merge_sort(li,mid+1,last,temp)\n",
    "        merging(li,first,mid,last,temp)"
   ]
  },
  {
   "cell_type": "code",
   "execution_count": 18,
   "metadata": {},
   "outputs": [
    {
     "data": {
      "text/plain": [
       "[0, 2, 3, 3, 5, 6, 7]"
      ]
     },
     "execution_count": 18,
     "metadata": {},
     "output_type": "execute_result"
    }
   ],
   "source": [
    "L = [5,3,6,2,3,7,0]\n",
    "temp = len(L)*[None]\n",
    "merge_sort(L,0,6,temp)\n",
    "L"
   ]
  },
  {
   "cell_type": "code",
   "execution_count": null,
   "metadata": {},
   "outputs": [],
   "source": []
  }
 ],
 "metadata": {
  "kernelspec": {
   "display_name": "Python 2",
   "language": "python",
   "name": "python2"
  },
  "language_info": {
   "codemirror_mode": {
    "name": "ipython",
    "version": 2
   },
   "file_extension": ".py",
   "mimetype": "text/x-python",
   "name": "python",
   "nbconvert_exporter": "python",
   "pygments_lexer": "ipython2",
   "version": "2.7.14"
  }
 },
 "nbformat": 4,
 "nbformat_minor": 2
}
